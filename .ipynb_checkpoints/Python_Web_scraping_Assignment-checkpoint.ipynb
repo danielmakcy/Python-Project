{
 "cells": [
  {
   "cell_type": "markdown",
   "metadata": {
    "colab_type": "text",
    "id": "view-in-github"
   },
   "source": [
    "<a href=\"https://colab.research.google.com/github/danielmakcy/Python-Project/blob/main/Python_Web_scraping_Assignment.ipynb\" target=\"_parent\"><img src=\"https://colab.research.google.com/assets/colab-badge.svg\" alt=\"Open In Colab\"/></a>"
   ]
  },
  {
   "cell_type": "code",
   "execution_count": 1,
   "metadata": {
    "id": "K7xcFkZiHeBe"
   },
   "outputs": [],
   "source": [
    "import pandas as pd\n",
    "import numpy as np\n",
    "import requests\n",
    "from bs4 import BeautifulSoup\n",
    "\n",
    "base_url = 'https://www.basketball-reference.com/'"
   ]
  },
  {
   "cell_type": "markdown",
   "metadata": {
    "id": "0XKo9AduYB9Y"
   },
   "source": [
    "# Retrieve all team in Eastern and Western Conference"
   ]
  },
  {
   "cell_type": "code",
   "execution_count": 2,
   "metadata": {
    "id": "UhcOhW0hYI7s"
   },
   "outputs": [
    {
     "ename": "AttributeError",
     "evalue": "'NoneType' object has no attribute 'find_all'",
     "output_type": "error",
     "traceback": [
      "\u001b[1;31m---------------------------------------------------------------------------\u001b[0m",
      "\u001b[1;31mAttributeError\u001b[0m                            Traceback (most recent call last)",
      "Cell \u001b[1;32mIn[2], line 38\u001b[0m\n\u001b[0;32m     35\u001b[0m   df \u001b[38;5;241m=\u001b[39m pd\u001b[38;5;241m.\u001b[39mconcat([df1, df2])\n\u001b[0;32m     36\u001b[0m   \u001b[38;5;28;01mreturn\u001b[39;00m df\u001b[38;5;241m.\u001b[39mreset_index(drop\u001b[38;5;241m=\u001b[39m\u001b[38;5;28;01mTrue\u001b[39;00m)\n\u001b[1;32m---> 38\u001b[0m teams \u001b[38;5;241m=\u001b[39m \u001b[43mget_NBA_teams\u001b[49m\u001b[43m(\u001b[49m\u001b[38;5;124;43m'\u001b[39;49m\u001b[38;5;124;43mhttps://www.basketball-reference.com/leagues/NBA_2024.html\u001b[39;49m\u001b[38;5;124;43m'\u001b[39;49m\u001b[43m)\u001b[49m\n",
      "Cell \u001b[1;32mIn[2], line 33\u001b[0m, in \u001b[0;36mget_NBA_teams\u001b[1;34m(url)\u001b[0m\n\u001b[0;32m     30\u001b[0m   df \u001b[38;5;241m=\u001b[39m pd\u001b[38;5;241m.\u001b[39mDataFrame(data, columns \u001b[38;5;241m=\u001b[39m header_data)\n\u001b[0;32m     31\u001b[0m   \u001b[38;5;28;01mreturn\u001b[39;00m df\n\u001b[1;32m---> 33\u001b[0m df1 \u001b[38;5;241m=\u001b[39m \u001b[43mget_teams\u001b[49m\u001b[43m(\u001b[49m\u001b[38;5;124;43m\"\u001b[39;49m\u001b[38;5;124;43mEast\u001b[39;49m\u001b[38;5;124;43m\"\u001b[39;49m\u001b[43m)\u001b[49m\n\u001b[0;32m     34\u001b[0m df2 \u001b[38;5;241m=\u001b[39m get_teams(\u001b[38;5;124m\"\u001b[39m\u001b[38;5;124mWest\u001b[39m\u001b[38;5;124m\"\u001b[39m)\n\u001b[0;32m     35\u001b[0m df \u001b[38;5;241m=\u001b[39m pd\u001b[38;5;241m.\u001b[39mconcat([df1, df2])\n",
      "Cell \u001b[1;32mIn[2], line 20\u001b[0m, in \u001b[0;36mget_NBA_teams.<locals>.get_teams\u001b[1;34m(conf)\u001b[0m\n\u001b[0;32m     17\u001b[0m header_data \u001b[38;5;241m=\u001b[39m [\u001b[38;5;124m'\u001b[39m\u001b[38;5;124mConference\u001b[39m\u001b[38;5;124m'\u001b[39m, \u001b[38;5;124m'\u001b[39m\u001b[38;5;124mTeam Name\u001b[39m\u001b[38;5;124m'\u001b[39m, \u001b[38;5;124m'\u001b[39m\u001b[38;5;124mURL\u001b[39m\u001b[38;5;124m'\u001b[39m]\n\u001b[0;32m     19\u001b[0m data \u001b[38;5;241m=\u001b[39m []\n\u001b[1;32m---> 20\u001b[0m \u001b[38;5;28;01mfor\u001b[39;00m bd \u001b[38;5;129;01min\u001b[39;00m \u001b[43mtable\u001b[49m\u001b[38;5;241;43m.\u001b[39;49m\u001b[43mfind_all\u001b[49m(\u001b[38;5;124m'\u001b[39m\u001b[38;5;124mtbody\u001b[39m\u001b[38;5;124m'\u001b[39m):\n\u001b[0;32m     21\u001b[0m   \u001b[38;5;28;01mfor\u001b[39;00m row \u001b[38;5;129;01min\u001b[39;00m bd\u001b[38;5;241m.\u001b[39mfind_all(\u001b[38;5;124m'\u001b[39m\u001b[38;5;124mth\u001b[39m\u001b[38;5;124m'\u001b[39m):\n\u001b[0;32m     22\u001b[0m     row_data\u001b[38;5;241m=\u001b[39m[]\n",
      "\u001b[1;31mAttributeError\u001b[0m: 'NoneType' object has no attribute 'find_all'"
     ]
    }
   ],
   "source": [
    "def get_NBA_teams(url):\n",
    "\n",
    "  response = requests.get(url)\n",
    "  # Parse the HTML content with Beautiful Soup\n",
    "  soup = BeautifulSoup(response.content, 'html.parser')\n",
    "\n",
    "  def get_teams (conf):\n",
    "\n",
    "    tablename = ''\n",
    "    if conf == 'East':\n",
    "      tablename = 'confs_standings_E'\n",
    "    else:\n",
    "      tablename = 'confs_standings_W'\n",
    "\n",
    "    table = soup.find('table', {'id': tablename})\n",
    "\n",
    "    header_data = ['Conference', 'Team Name', 'URL']\n",
    "\n",
    "    data = []\n",
    "    for bd in table.find_all('tbody'):\n",
    "      for row in bd.find_all('th'):\n",
    "        row_data=[]\n",
    "        teamname = row.text\n",
    "        urls = [node.get('href') for node in row.find_all(\"a\")]\n",
    "        row_data.append(conf)\n",
    "        row_data.append(teamname)\n",
    "        row_data.append(urls[0])\n",
    "        data.append(row_data)\n",
    "\n",
    "    df = pd.DataFrame(data, columns = header_data)\n",
    "    return df\n",
    "\n",
    "  df1 = get_teams(\"East\")\n",
    "  df2 = get_teams(\"West\")\n",
    "  df = pd.concat([df1, df2])\n",
    "  return df.reset_index(drop=True)\n",
    "\n",
    "teams = get_NBA_teams('https://www.basketball-reference.com/leagues/NBA_2024.html')"
   ]
  },
  {
   "cell_type": "code",
   "execution_count": null,
   "metadata": {
    "colab": {
     "base_uri": "https://localhost:8080/",
     "height": 990
    },
    "id": "TfEKt1L_cSg-",
    "outputId": "8800f46b-8ccd-4fe5-f565-f3ac57c28d4a",
    "scrolled": true
   },
   "outputs": [],
   "source": [
    "teams"
   ]
  },
  {
   "cell_type": "markdown",
   "metadata": {
    "id": "bVMX-iCB4dau"
   },
   "source": [
    "# Retrieve all players in a team"
   ]
  },
  {
   "cell_type": "code",
   "execution_count": null,
   "metadata": {
    "colab": {
     "base_uri": "https://localhost:8080/",
     "height": 870
    },
    "id": "WHZzCZWQWwe6",
    "outputId": "b853d0c6-3826-4f53-b789-0e8b25492b69"
   },
   "outputs": [],
   "source": [
    "header_data = ('No', 'Player', 'Pos', 'Ht', 'Wt', 'Birth Date', 'Country', 'Exp', 'College', 'URL')\n",
    "players = pd.DataFrame((), columns = header_data)\n",
    "\n",
    "def get_team_players (url):\n",
    "  response = requests.get(url)\n",
    "\n",
    "# Parse the HTML content with Beautiful Soup\n",
    "  soup = BeautifulSoup(response.content, 'html.parser')\n",
    "  table = soup.find('table', {'id': 'roster'})\n",
    "\n",
    "  # header_data = []\n",
    "  # for header in table.find_all('th'):\n",
    "  #   if len(header.text) != 0:\n",
    "  #     header_data.append(header.text)\n",
    "\n",
    "  # header_data.append('URL')\n",
    "  # print(header_data)\n",
    "\n",
    "  data = []\n",
    "  for row in table.find_all('tr'):\n",
    "    row_data = []\n",
    "    url=[]\n",
    "    for cell in row.find_all('td'):\n",
    "      row_data.append(cell.text)\n",
    "      for link in cell.find_all('a'):\n",
    "        url.append(link.get('href'))\n",
    "\n",
    "    if len(row_data) > 0:\n",
    "      row_data.insert(0, np.nan)\n",
    "      row_data.append(url[0])\n",
    "      data.append(row_data)\n",
    "\n",
    "  \n",
    "  df = pd.DataFrame(data, columns = header_data)\n",
    "  return df\n",
    "\n",
    "for index, team in teams.iterrows():\n",
    "  url = base_url + team.URL\n",
    "  print(url)\n",
    "  player = get_team_players (url)\n",
    "  print(player)\n",
    "  players = pd.concat((players, player), ignore_index=True)\n"
   ]
  },
  {
   "cell_type": "code",
   "execution_count": null,
   "metadata": {
    "colab": {
     "base_uri": "https://localhost:8080/",
     "height": 53
    },
    "id": "2bbpwwTpb7rv",
    "outputId": "fa528d99-bcdd-4585-b77d-82b87dac724d"
   },
   "outputs": [],
   "source": [
    "players"
   ]
  },
  {
   "cell_type": "markdown",
   "metadata": {
    "id": "IppcLATf0vHW"
   },
   "source": [
    "# Data Clean up - Player"
   ]
  },
  {
   "cell_type": "code",
   "execution_count": null,
   "metadata": {
    "id": "o6iV9ZtidURA"
   },
   "outputs": [],
   "source": [
    "from xml.etree.ElementTree import XMLPullParser\n",
    "\n",
    "# Updated Exp\n",
    "players[\"Exp\"] = players[\"Exp\"].apply(lambda x: 0 if x == 'R' else x)\n",
    "players[\"Exp\"] = players[\"Exp\"].astype(int)\n",
    "\n",
    "#Add Age column\n",
    "from datetime import datetime\n",
    "\n",
    "def calc_Age (x):\n",
    "\n",
    "  date_format = \"%B %d, %Y\"\n",
    "  birthdate = datetime.strptime(x, date_format)\n",
    "\n",
    "  current_date = datetime.now()\n",
    "  x = current_date.year - birthdate.year - ((current_date.month, current_date.day) < (birthdate.month, birthdate.day))\n",
    "  return x\n",
    "\n",
    "players[\"Age\"] = players[\"Birth Date\"].apply(calc_Age)\n",
    "\n",
    "#players.rename(columns={\"\\xa0\": \"Country\"}, inplace=True)\n",
    "\n",
    "players[\"Country\"] = players[\"Country\"].apply(lambda x: x.upper() if True else x)\n",
    "\n",
    "players\n"
   ]
  },
  {
   "cell_type": "markdown",
   "metadata": {
    "id": "sPr7Ion_u08G"
   },
   "source": [
    "# Retrieve player's performance"
   ]
  },
  {
   "cell_type": "code",
   "execution_count": null,
   "metadata": {
    "id": "RioBGBY1u8P1"
   },
   "outputs": [],
   "source": [
    "def get_performance (plist):\n",
    "\n",
    "  header_data = ['URL', 'Year', 'G', 'PTS', 'RTB', 'AST', 'FG', 'FG3', 'FT', 'eFG', 'PER', 'WS']\n",
    "\n",
    "  df = pd.DataFrame ((), columns = header_data)\n",
    "  pdata = []\n",
    "\n",
    "  for index, player in plist.iterrows():\n",
    "    url = base_url + player.URL\n",
    "    #print(url)\n",
    "\n",
    "    pdata_Last_Year = [player.URL, 'LY']\n",
    "    pdata_Career = [player.URL, 'C']\n",
    "\n",
    "    response = requests.get(url)\n",
    "    soup = BeautifulSoup(response.content, 'html.parser')\n",
    "\n",
    "    try:\n",
    "      p1 = soup.find('div', {'class': 'p1'})\n",
    "      i=0\n",
    "      for item in p1.find_all('p'):\n",
    "        if (i%2==0):\n",
    "          pdata_Last_Year.append(float(item.text))\n",
    "        else:\n",
    "          pdata_Career.append(float(item.text))\n",
    "        i += 1\n",
    "    except:\n",
    "      print(player.URL, ' No Data')\n",
    "\n",
    "    try:\n",
    "      p2 = soup.find('div', {'class': 'p2'})\n",
    "      i=0\n",
    "      for item in p2.find_all('p'):\n",
    "        if (i%2==0):\n",
    "          pdata_Last_Year.append(float(item.text))\n",
    "        else:\n",
    "          pdata_Career.append(float(item.text))\n",
    "        i += 1\n",
    "    except:\n",
    "      print(player.URL, ' No Data')\n",
    "\n",
    "    try:\n",
    "      p3 = soup.find('div', {'class': 'p3'})\n",
    "      i=0\n",
    "      for item in p3.find_all('p'):\n",
    "        if (i%2==0):\n",
    "          pdata_Last_Year.append(float(item.text))\n",
    "        else:\n",
    "          pdata_Career.append(float(item.text))\n",
    "        i += 1\n",
    "    except:\n",
    "      print(player.URL, ' No Data')\n",
    "\n",
    "    pdata.append(pdata_Last_Year)\n",
    "    pdata.append(pdata_Career)\n",
    "    # print(pdata)\n",
    "\n",
    "  df = pd.DataFrame(data=pdata, columns = header_data)\n",
    "\n",
    "  return df\n",
    "\n",
    "performance = get_performance (players)"
   ]
  },
  {
   "cell_type": "code",
   "execution_count": null,
   "metadata": {
    "id": "_nx48nYtPiFO"
   },
   "outputs": [],
   "source": [
    "performance"
   ]
  },
  {
   "cell_type": "code",
   "execution_count": null,
   "metadata": {},
   "outputs": [],
   "source": []
  }
 ],
 "metadata": {
  "colab": {
   "authorship_tag": "ABX9TyN6XI73ONLbIGov/6G6nQQH",
   "include_colab_link": true,
   "provenance": []
  },
  "kernelspec": {
   "display_name": "Python 3 (ipykernel)",
   "language": "python",
   "name": "python3"
  },
  "language_info": {
   "codemirror_mode": {
    "name": "ipython",
    "version": 3
   },
   "file_extension": ".py",
   "mimetype": "text/x-python",
   "name": "python",
   "nbconvert_exporter": "python",
   "pygments_lexer": "ipython3",
   "version": "3.11.5"
  }
 },
 "nbformat": 4,
 "nbformat_minor": 4
}
